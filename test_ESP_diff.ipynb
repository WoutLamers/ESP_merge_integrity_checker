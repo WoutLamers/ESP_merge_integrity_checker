{
 "cells": [
  {
   "cell_type": "code",
   "execution_count": 1,
   "metadata": {},
   "outputs": [],
   "source": [
    "# Load .esp json representation, count references, compare\n",
    "from pprint import pprint\n",
    "import time\n",
    "import json\n",
    "from jsondiff import diff as JsonDiff   #https://github.com/xlwings/jsondiff\n",
    "from deepdiff import DeepDiff\n",
    "# also see for comparing regardless of order https://stackoverflow.com/questions/25851183/how-to-compare-two-json-objects-with-the-same-elements-in-a-different-order-equa\n",
    "def pp(i, c=False):\n",
    "    return pprint(i, width=100, compact=c)"
   ]
  },
  {
   "cell_type": "markdown",
   "metadata": {},
   "source": [
    "# Simple reference counting for cells"
   ]
  },
  {
   "cell_type": "code",
   "execution_count": null,
   "metadata": {},
   "outputs": [],
   "source": [
    "fileold = \"TR_Mainland.json\"\n",
    "filenew = \"TR_Mainland - Copy.json\"\n",
    "path = \"\""
   ]
  },
  {
   "cell_type": "code",
   "execution_count": 2,
   "metadata": {},
   "outputs": [],
   "source": [
    "def count_references(json_filename):\n",
    "    with open(json_filename) as file:\n",
    "        f = json.load(file)\n",
    "    f = [x for x in f if x['type']==\"Cell\"]\n",
    "    #f = [x for x in f if 'atmosphere_data' not in x]    #exteriors only\n",
    "    for i in range(0, len(f)):\n",
    "        f[i]['references'] = len(f[i]['references'])    #replace list of references with total number of references\n",
    "    f = {str(x['data']['grid']) if 'atmosphere_data' not in x else x['id']: x['references'] for x in f}\n",
    "    return f"
   ]
  },
  {
   "cell_type": "code",
   "execution_count": 3,
   "metadata": {},
   "outputs": [
    {
     "name": "stdout",
     "output_type": "stream",
     "text": [
      "3700\n",
      "3700\n"
     ]
    }
   ],
   "source": [
    "count_refs_new = count_references(path+fileold)\n",
    "count_refs_old = count_references(path+filenew)\n",
    "print(len(count_refs_new))\n",
    "print(len(count_refs_old))"
   ]
  },
  {
   "cell_type": "code",
   "execution_count": 4,
   "metadata": {},
   "outputs": [
    {
     "name": "stdout",
     "output_type": "stream",
     "text": [
      "Balmora, Guild of Fighters -1\n",
      "[11, 22] -9\n",
      "[12, 20] -2\n",
      "[12, 22] -11\n",
      "[13, 19] -1\n",
      "[13, 20] -11\n",
      "[13, 21] -17\n",
      "[2, -15] -27\n",
      "[3, -15] -10\n",
      "[3, -16] 1\n",
      "[4, -16] 8\n",
      "[42, 16] -1\n",
      "[42, 17] -27\n"
     ]
    }
   ],
   "source": [
    "compare_ref_counts = {}\n",
    "for key in count_refs_new.keys():\n",
    "    if key in count_refs_old.keys():\n",
    "        compare_ref_counts[key] = count_refs_new[key] - count_refs_old[key] \n",
    "compare_ref_counts = [(x, y) for x, y in compare_ref_counts.items() if y != 0]\n",
    "compare_ref_counts.sort()\n",
    "for x in compare_ref_counts: \n",
    "    print(x[0],x[1]) "
   ]
  },
  {
   "cell_type": "markdown",
   "metadata": {},
   "source": [
    "# JSON differences"
   ]
  },
  {
   "cell_type": "code",
   "execution_count": 5,
   "metadata": {},
   "outputs": [],
   "source": [
    "file1=\"C:\\Games\\Morrowind LowRes\\Data Files\\TR_Mainland.json\"\n",
    "file2=\"C:\\Games\\Morrowind LowRes\\Data Files\\TR_Mainland - Copy.json\""
   ]
  },
  {
   "cell_type": "code",
   "execution_count": 6,
   "metadata": {},
   "outputs": [],
   "source": [
    "with open(file1) as file:\n",
    "    json1 = json.load(file)\n",
    "with open(file2) as file:\n",
    "    json2 = json.load(file)"
   ]
  },
  {
   "cell_type": "code",
   "execution_count": 9,
   "metadata": {},
   "outputs": [],
   "source": [
    "types = []\n",
    "\n",
    "for x in json1+json2:\n",
    "    if x['type'] not in types:\n",
    "        types.append(x['type'])"
   ]
  },
  {
   "cell_type": "code",
   "execution_count": 10,
   "metadata": {},
   "outputs": [
    {
     "data": {
      "text/plain": [
       "[('Header', 1, 1, True),\n",
       " ('GlobalVariable', 174, 174, True),\n",
       " ('Faction', 1, 1, True),\n",
       " ('Sound', 18, 18, True),\n",
       " ('Script', 1657, 1657, True),\n",
       " ('StartScript', 1, 1, True),\n",
       " ('LandscapeTexture', 223, 224, False),\n",
       " ('Spell', 136, 136, True),\n",
       " ('Static', 308, 308, True),\n",
       " ('Door', 183, 183, True),\n",
       " ('MiscItem', 413, 413, True),\n",
       " ('Weapon', 162, 162, True),\n",
       " ('Container', 817, 817, True),\n",
       " ('Creature', 286, 286, True),\n",
       " ('Bodypart', 13, 13, True),\n",
       " ('Light', 188, 188, True),\n",
       " ('Enchantment', 244, 244, True),\n",
       " ('Npc', 3880, 3880, True),\n",
       " ('Armor', 86, 86, True),\n",
       " ('Clothing', 191, 191, True),\n",
       " ('RepairTool', 1, 1, True),\n",
       " ('Activator', 1095, 1095, True),\n",
       " ('Apparatus', 9, 9, True),\n",
       " ('Ingredient', 52, 52, True),\n",
       " ('Book', 567, 567, True),\n",
       " ('Alchemy', 70, 70, True),\n",
       " ('LevelledItem', 24, 24, True),\n",
       " ('LevelledCreature', 11, 11, True),\n",
       " ('Cell', 3700, 3700, True),\n",
       " ('Landscape', 1790, 1790, True),\n",
       " ('PathGrid', 1809, 1824, False),\n",
       " ('Dialogue', 2071, 2071, True),\n",
       " ('Info', 32097, 32097, True)]"
      ]
     },
     "execution_count": 10,
     "metadata": {},
     "output_type": "execute_result"
    }
   ],
   "source": [
    "json1data = {\"typecounts\":{t:len([x for x in json1 if x['type']==t]) for t in types}}\n",
    "json2data = {\"typecounts\":{t:len([x for x in json2 if x['type']==t]) for t in types}}\n",
    "# compare numbers of entries for each type\n",
    "[(t, json1data['typecounts'][t], json2data['typecounts'][t], json1data['typecounts'][t]==json2data['typecounts'][t]) for t in types]"
   ]
  },
  {
   "cell_type": "markdown",
   "metadata": {},
   "source": [
    "# Header type"
   ]
  },
  {
   "cell_type": "code",
   "execution_count": 11,
   "metadata": {},
   "outputs": [
    {
     "name": "stdout",
     "output_type": "stream",
     "text": [
      "({'masters': {delete: [4]}, 'num_objects': 52293},\n",
      " {'masters': {insert: [(4, ['TD_Addon.esm', 1912481])]}, 'num_objects': 52277})\n",
      "{'iterable_item_removed': {\"root['masters'][4]\": ['TD_Addon.esm', 1912481]},\n",
      " 'values_changed': {\"root['num_objects']\": {'new_value': 52293, 'old_value': 52277}}}\n"
     ]
    }
   ],
   "source": [
    "test1 = [x for x in json1 if x.get('type') == \"Header\"][0]\n",
    "test2 = [x for x in json2 if x.get('type') == \"Header\"][0]\n",
    "jsondiff_dict = (JsonDiff(test1, test2), JsonDiff(test2, test1))\n",
    "deepdiff_dict = DeepDiff(test1, test2)\n",
    "pp(jsondiff_dict)\n",
    "pp(deepdiff_dict)"
   ]
  },
  {
   "cell_type": "markdown",
   "metadata": {},
   "source": [
    "# Cell types\n"
   ]
  },
  {
   "cell_type": "code",
   "execution_count": 12,
   "metadata": {},
   "outputs": [],
   "source": [
    "# list cells by grid if ext, by name if int\n",
    "test1 = {x['id'] if 'atmosphere_data' in x else str(x['data']['grid']):x for x in json1 if x['type'] == \"Cell\"}\n",
    "test2 = {x['id'] if 'atmosphere_data' in x else str(x['data']['grid']):x for x in json2 if x['type'] == \"Cell\"}\n",
    "testmissing = {x['id'] if 'atmosphere_data' in x else str(x['data']['grid']):x for x in json2 if x['type'] == \"Cell\" and x['id'] != 'Balmora, Guild of Fighters'}\n",
    "\n",
    "cell_ids = []\n",
    "\n",
    "for x in test1.keys():\n",
    "    if x not in cell_ids:\n",
    "        cell_ids.append(x)\n",
    "for x in test2.keys():\n",
    "    if x not in cell_ids:\n",
    "        cell_ids.append(x)\n",
    "\n",
    "# use dict.get() in case keys are missing\n",
    "cells_unequal = [id for id in cell_ids if test1.get(id)!=test2.get(id)]\n",
    "#difference_dict = {id:(diff(test1.get(id), test2.get(id)), diff(test2.get(id), test1.get(id))) for id in cells_unequal}\n",
    "difference_dict = {id:DeepDiff(test1.get(id), test2.get(id)) for id in cells_unequal}"
   ]
  },
  {
   "cell_type": "code",
   "execution_count": 13,
   "metadata": {},
   "outputs": [
    {
     "data": {
      "text/plain": [
       "{'iterable_item_added': {\"root['references'][0]\": {'mast_index': 1,\n",
       "   'refr_index': 460129,\n",
       "   'id': 'com_chest_02_fg_supply',\n",
       "   'temporary': True,\n",
       "   'translation': [0.0, 0.0, 0.0],\n",
       "   'rotation': [0.0, 0.0, 0.0],\n",
       "   'scale': 1.12,\n",
       "   'owner_faction': 'Fighters Guild',\n",
       "   'owner_faction_rank': 0,\n",
       "   'health_left': 0,\n",
       "   'deleted': 4729956}}}"
      ]
     },
     "execution_count": 13,
     "metadata": {},
     "output_type": "execute_result"
    }
   ],
   "source": [
    "difference_dict[cells_unequal[-1]]"
   ]
  },
  {
   "cell_type": "code",
   "execution_count": 14,
   "metadata": {},
   "outputs": [
    {
     "name": "stdout",
     "output_type": "stream",
     "text": [
      "[]\n",
      "[{'deleted': 4729956,\n",
      "  'health_left': 0,\n",
      "  'id': 'com_chest_02_fg_supply',\n",
      "  'mast_index': 1,\n",
      "  'owner_faction': 'Fighters Guild',\n",
      "  'owner_faction_rank': 0,\n",
      "  'refr_index': 460129,\n",
      "  'rotation': [0.0, 0.0, 0.0],\n",
      "  'scale': 1.12,\n",
      "  'temporary': True,\n",
      "  'translation': [0.0, 0.0, 0.0]}]\n"
     ]
    }
   ],
   "source": [
    "pprint(test1[cells_unequal[-1]]['references'])\n",
    "pprint(test2[cells_unequal[-1]]['references'])\n"
   ]
  },
  {
   "cell_type": "code",
   "execution_count": 15,
   "metadata": {},
   "outputs": [
    {
     "name": "stdout",
     "output_type": "stream",
     "text": [
      "{'iterable_item_added': {\"root['references'][0]\": {'deleted': 4729956,\n",
      "                                                   'health_left': 0,\n",
      "                                                   'id': 'com_chest_02_fg_supply',\n",
      "                                                   'mast_index': 1,\n",
      "                                                   'owner_faction': 'Fighters Guild',\n",
      "                                                   'owner_faction_rank': 0,\n",
      "                                                   'refr_index': 460129,\n",
      "                                                   'rotation': [0.0, 0.0, 0.0],\n",
      "                                                   'scale': 1.12,\n",
      "                                                   'temporary': True,\n",
      "                                                   'translation': [0.0, 0.0, 0.0]}}}\n"
     ]
    }
   ],
   "source": [
    "pp(difference_dict[cells_unequal[-1]])"
   ]
  },
  {
   "cell_type": "markdown",
   "metadata": {},
   "source": [
    "# Check to what extent IDs are unique"
   ]
  },
  {
   "cell_type": "code",
   "execution_count": 19,
   "metadata": {},
   "outputs": [
    {
     "name": "stdout",
     "output_type": "stream",
     "text": [
      "['PathGrid', 'Info', 'Cell', 'Header', 'Landscape']\n",
      "False\n",
      "{'TR_m3_OE_MG_PuzzleExit': 2, 'TR_m4_HH_ScribPie': 2}\n",
      "[{'bytecode': 'KLUv/QBYlQcA0o0yMYCp6WZCc4HMDMzAzIqLtMTdTtsd+xcS8mDqg2X4FzAHVuEtEG5BQKwNWDmPu8uLJO3/X5a1RkTCCWwxtJiY/7KsSey1RPZSBhlRZJw0YMXDTLt90+6AFwp86YZ7WRyVYcYEBxokmLhxd3+02qtifGnfigk4Bs1yEBxq4sfc/R3yMARxu+X3uz+I8TDzpmdLPSuKRj0nJiQcZJzIiCIPIuSD9IAFlb5QE3MPiDAEsdWzouy1AEGvW6lYz5ZuR1nNKKVHZAjAXWunCA0ARqi10udv1kIp4GdqCJBG0gwOsqykXQBj5RNYMsDRvgWJwQw=',\n",
      "  'flags': [0, 0],\n",
      "  'header': {'bytecode_length': 383,\n",
      "             'num_floats': 0,\n",
      "             'num_longs': 0,\n",
      "             'num_shorts': 1,\n",
      "             'variables_length': 5},\n",
      "  'id': 'TR_m3_OE_MG_PuzzleExit',\n",
      "  'text': 'Begin TR_m3_OE_MG_PuzzleExit\\r\\n'\n",
      "          '\\r\\n'\n",
      "          'short open\\r\\n'\n",
      "          '\\r\\n'\n",
      "          'if ( T_Glb_GetTeleportingDisabled == 0 )\\r\\n'\n",
      "          '\\tPlayer->StartScript TR_m3_OE_MG_PuzzleEnableTele\\r\\n'\n",
      "          '\\tset T_Glb_GetTeleportingDisabled to 1\\r\\n'\n",
      "          '\\tDisableTeleporting\\r\\n'\n",
      "          'endif\\r\\n'\n",
      "          '\\r\\n'\n",
      "          'if ( open == 1 )\\r\\n'\n",
      "          '\\tReturn\\r\\n'\n",
      "          'endif\\r\\n'\n",
      "          '\\r\\n'\n",
      "          'if ( GetLocked == 0 )\\r\\n'\n",
      "          '\\tLock 100\\r\\n'\n",
      "          '\\tcast \"potent poison\" player\\r\\n'\n",
      "          'endif\\r\\n'\n",
      "          '\\r\\n'\n",
      "          'if ( OnActivate )\\r\\n'\n",
      "          '\\tActivate\\r\\n'\n",
      "          '\\tif ( player->GetItemCount \"TR_m3_OE_MG_PuzzleExitKey\" > 0 )\\r\\n'\n",
      "          '\\t\\tplayer->RemoveItem \"TR_m3_OE_MG_PuzzleExitKey\" 1\\r\\n'\n",
      "          '\\t\\tset open to 1\\r\\n'\n",
      "          '\\t\\tJournal \"TR_m3_MG_OE_IntsExts\" 50\\r\\n'\n",
      "          '\\tendif\\r\\n'\n",
      "          'endif\\r\\n'\n",
      "          '\\r\\n'\n",
      "          'if ( GetJournalIndex \"TR_m3_MG_OE_IntsExts\" < 20 )\\r\\n'\n",
      "          '\\tJournal \"TR_m3_MG_OE_IntsExts\" 20\\r\\n'\n",
      "          'endif\\r\\n'\n",
      "          '\\r\\n'\n",
      "          'End',\n",
      "  'type': 'Script',\n",
      "  'variables': 'KLUv/QBYSQAABQAAAG9wZW4A'},\n",
      " {'close_sound': 'Door Latched One Close',\n",
      "  'flags': [0, 0],\n",
      "  'id': 'TR_m3_OE_MG_PuzzleExit',\n",
      "  'mesh': 'd\\\\In_C_door_wood_square.nif',\n",
      "  'name': 'Reinforced Wooden Door',\n",
      "  'open_sound': 'Door Heavy Open',\n",
      "  'script': 'TR_m3_OE_MG_PuzzleExit',\n",
      "  'type': 'Door'},\n",
      " {'data': {'attributes': ['None', 'None', 'None', 'None'],\n",
      "           'effects': ['DrainFatigue', 'None', 'None', 'None'],\n",
      "           'skills': ['None', 'None', 'None', 'None'],\n",
      "           'value': 10,\n",
      "           'weight': 1.0},\n",
      "  'flags': [0, 0],\n",
      "  'icon': 'TR\\\\n\\\\TR_ing_scrib_pie.dds',\n",
      "  'id': 'TR_m4_HH_ScribPie',\n",
      "  'mesh': 'TR\\\\n\\\\TR_ing_scrib_pie.NIF',\n",
      "  'name': 'Squirmy Scrib Pie',\n",
      "  'type': 'Ingredient'},\n",
      " {'dialogue_type': 'Journal', 'flags': [0, 0], 'id': 'TR_m4_HH_ScribPie', 'type': 'Dialogue'}]\n"
     ]
    }
   ],
   "source": [
    "# check with types do not have IDs?\n",
    "test=[x for x in json1 if not x.get('id')]\n",
    "no_id_types = list(set([x['type'] for x in test]))\n",
    "print(no_id_types)\n",
    "# check whether IDs are unique?\n",
    "test=[x for x in json1 if x.get('id') and x['type'] not in no_id_types]\n",
    "print(len(test)==len(set([x['id'] for x in test])))\n",
    "# some non-unique IDs, figure out which\n",
    "from collections import Counter\n",
    "duplicate_ids={k:v for k, v in Counter([x['id'] for x in test]).items() if v>1}\n",
    "print(duplicate_ids)\n",
    "# what are they?\n",
    "pp([x for x in test if x['id'] in duplicate_ids.keys()])\n",
    "# well, at least they have different types, so we can still count on IDs being unique within identical-type groups."
   ]
  },
  {
   "cell_type": "markdown",
   "metadata": {},
   "source": [
    "# First DeepDiff pass"
   ]
  },
  {
   "cell_type": "code",
   "execution_count": 190,
   "metadata": {},
   "outputs": [
    {
     "name": "stdout",
     "output_type": "stream",
     "text": [
      "Processing Header          \tdelta=2          time=0.01852\n",
      "Processing GlobalVariable  \tidentical\n",
      "Processing Faction         \tidentical\n",
      "Processing Sound           \tidentical\n",
      "Processing Script          \tidentical\n",
      "Processing StartScript     \tidentical\n",
      "Processing LandscapeTexture\tdelta=139        time=0.03403\n",
      "Processing Spell           \tidentical\n",
      "Processing Static          \tidentical\n",
      "Processing Door            \tidentical\n",
      "Processing MiscItem        \tidentical\n",
      "Processing Weapon          \tidentical\n",
      "Processing Container       \tidentical\n",
      "Processing Creature        \tidentical\n",
      "Processing Bodypart        \tidentical\n",
      "Processing Light           \tidentical\n",
      "Processing Enchantment     \tidentical\n",
      "Processing Npc             \tdelta=4          time=0.15413\n",
      "Processing Armor           \tidentical\n",
      "Processing Clothing        \tidentical\n",
      "Processing RepairTool      \tidentical\n",
      "Processing Activator       \tidentical\n",
      "Processing Apparatus       \tidentical\n",
      "Processing Ingredient      \tidentical\n",
      "Processing Book            \tidentical\n",
      "Processing Alchemy         \tidentical\n",
      "Processing LevelledItem    \tidentical\n",
      "Processing LevelledCreature\tidentical\n",
      "Processing Cell            \tdelta=41         time=0.60352\n",
      "Processing Landscape       \tdelta=1790       time=0.41335\n",
      "Processing PathGrid        \tdelta=15         time=0.05205\n",
      "Processing Dialogue        \tidentical\n",
      "Processing Info            \tdelta=6          time=0.1156\n"
     ]
    }
   ],
   "source": [
    "#deepdiff is faster but less legible - use to find initial areas to further investigate?\n",
    "\n",
    "#test_jsondiff = {}\n",
    "test_deepdiff_all_types = {}\n",
    "for t in types:\n",
    "\n",
    "    print(\"Processing \"+t+' '*(16-len(t)), end='')\n",
    "    start = time.time()\n",
    "    if t == 'Landscape':\n",
    "        test1={str(x['grid']):x for x in json1 if x['type']==t}\n",
    "        test2={str(x['grid']):x for x in json2 if x['type']==t}\n",
    "    elif t == 'Cell':\n",
    "        test1={x['id'] if 'atmosphere_data' in x else str(x['data']['grid']): x for x in json1 if x['type']==t}\n",
    "        test2={x['id'] if 'atmosphere_data' in x else str(x['data']['grid']): x for x in json2 if x['type']==t}\n",
    "    elif t == 'PathGrid':\n",
    "        test1={str(x['data']['grid']) if x['data']['grid']==[0, 0] and x['cell'] == \"Ashlands Region\" else x['cell'] if x['data']['grid']==[0, 0] else str(x['data']['grid']): x for x in json1 if x['type']==t}\n",
    "        test2={str(x['data']['grid']) if x['data']['grid']==[0, 0] and x['cell'] == \"Ashlands Region\" else x['cell'] if x['data']['grid']==[0, 0] else str(x['data']['grid']): x for x in json2 if x['type']==t}\n",
    "    elif t == 'Info':\n",
    "        # info doesn't store its parent Dialogue entry, so fetch both Dialogue and Info and nest them in a dictonary for the sake of comparison.\n",
    "        test1d=[x for x in json1 if x['type']=='Dialogue' or x['type']=='Info']\n",
    "        test2d=[x for x in json2 if x['type']=='Dialogue' or x['type']=='Info']\n",
    "        topic = None\n",
    "        test1 = {}\n",
    "        for x in test1d:\n",
    "            if x['type']=='Dialogue':\n",
    "                topic = x['id']\n",
    "                test1[topic] = []\n",
    "            else:\n",
    "                test1[topic].append(x)\n",
    "        topic = None\n",
    "        test2 = {}\n",
    "        for x in test2d:\n",
    "            if x['type']=='Dialogue':\n",
    "                topic = x['id']\n",
    "                test2[topic] = []\n",
    "            else:\n",
    "                test2[topic].append(x)\n",
    "    elif t not in ['Landscape', 'Header', 'PathGrid', 'Cell', 'Info']:  #catch-all for entries that have an id?\n",
    "        test1={x['id']: x for x in json1 if x['type']==t}\n",
    "        test2={x['id']: x for x in json2 if x['type']==t}\n",
    "    else:\n",
    "        test1=[x for x in json1 if x['type']==t]\n",
    "        test2=[x for x in json2 if x['type']==t]\n",
    "    if test1 == test2:\n",
    "        test_deepdiff_all_types[t]={}\n",
    "        print(\"\\tidentical\")\n",
    "    else:\n",
    "        if isinstance(test1, dict)&isinstance(test2, dict):\n",
    "            keys = []   # first record all unique keys - keys = test1.keys() | test2.keys() could also work but doesn't preserve ordering, so let's just use this for now.\n",
    "            for x in test1.keys():\n",
    "                if x not in keys:\n",
    "                    keys.append(x)\n",
    "            for x in test2.keys():\n",
    "                if x not in keys:\n",
    "                    keys.append(x)\n",
    "            keys = [k for k in keys if test1.get(k)!=test2.get(k)]\n",
    "            test_deepdiff_all_types[t]={}\n",
    "            for k in keys:\n",
    "                test_deepdiff_all_types[t][k] = DeepDiff(test1.get(k), test2.get(k), ignore_order=False)\n",
    "        else:\n",
    "            #test_jsondiff[t] = diff(test1, test2)\n",
    "            test_deepdiff_all_types[t] = DeepDiff(test1, test2, ignore_order=False)\n",
    "        end = time.time()\n",
    "        l = [len(test_deepdiff_all_types[t][k] or '') for k in test_deepdiff_all_types[t].keys()]\n",
    "        #print(\" \\t\\tdelta=\"+str(len(test_jsondiff[t] or '')))\n",
    "        print(\"\\tdelta=\"+str(sum(l or ''))+' '*max((10-len(str(sum(l or '')))),0)+' time='+str(round(end-start,5)))\n"
   ]
  },
  {
   "cell_type": "markdown",
   "metadata": {},
   "source": [
    "# JsonDiff instead"
   ]
  },
  {
   "cell_type": "code",
   "execution_count": 219,
   "metadata": {},
   "outputs": [
    {
     "name": "stdout",
     "output_type": "stream",
     "text": [
      "Processing Header          \tdelta=2          time=0.01952\n",
      "Processing GlobalVariable  \tdelta=0          time=0.01451\n",
      "Processing Faction         \tdelta=0          time=0.01501\n",
      "Processing Sound           \tdelta=0          time=0.01501\n",
      "Processing Script          \tdelta=0          time=0.01601\n",
      "Processing StartScript     \tdelta=0          time=0.01451\n",
      "Processing LandscapeTexture\tdelta=139        time=0.02702\n",
      "Processing Spell           \tdelta=0          time=0.02002\n",
      "Processing Static          \tdelta=0          time=0.02002\n",
      "Processing Door            \tdelta=0          time=0.02102\n",
      "Processing MiscItem        \tdelta=0          time=0.02002\n",
      "Processing Weapon          \tdelta=0          time=0.01751\n",
      "Processing Container       \tdelta=0          time=0.01651\n",
      "Processing Creature        \tdelta=0          time=0.01852\n",
      "Processing Bodypart        \tdelta=0          time=0.02202\n",
      "Processing Light           \tdelta=0          time=0.02052\n",
      "Processing Enchantment     \tdelta=0          time=0.01751\n",
      "Processing Npc             \tdelta=4          time=0.15313\n",
      "Processing Armor           \tdelta=0          time=0.01651\n",
      "Processing Clothing        \tdelta=0          time=0.01601\n",
      "Processing RepairTool      \tdelta=0          time=0.01801\n",
      "Processing Activator       \tdelta=0          time=0.01802\n",
      "Processing Apparatus       \tdelta=0          time=0.01701\n",
      "Processing Ingredient      \tdelta=0          time=0.01551\n",
      "Processing Book            \tdelta=0          time=0.01551\n",
      "Processing Alchemy         \tdelta=0          time=0.01401\n",
      "Processing LevelledItem    \tdelta=0          time=0.01451\n",
      "Processing LevelledCreature\tdelta=0          time=0.01451\n",
      "Processing Cell            \tdelta=13         time=11.44183\n",
      "Processing Landscape       \tdelta=1790       time=0.1211\n",
      "Processing PathGrid        \tdelta=15         time=0.05154\n",
      "Processing Dialogue        \tdelta=0          time=0.01852\n",
      "Processing Info            \tdelta=2          time=0.13762\n"
     ]
    }
   ],
   "source": [
    "#jsondiff is more legible but slower, though with the preliminary matching we made, it is acceptable.\n",
    "\n",
    "test_jsondiff_all_types = {}\n",
    "#test_deepdiff_all_types = {}\n",
    "for t in types:\n",
    "\n",
    "    print(\"Processing \"+t+' '*(16-len(t)), end='')\n",
    "    start = time.time()\n",
    "    if t == 'Landscape':\n",
    "        test1={str(x['grid']):x for x in json1 if x['type']==t}\n",
    "        test2={str(x['grid']):x for x in json2 if x['type']==t}\n",
    "    elif t == 'Cell':\n",
    "        test1={x['id'] if 'atmosphere_data' in x else str(x['data']['grid']): x for x in json1 if x['type']==t}\n",
    "        test2={x['id'] if 'atmosphere_data' in x else str(x['data']['grid']): x for x in json2 if x['type']==t}\n",
    "    elif t == 'PathGrid':\n",
    "        test1={str(x['data']['grid']) if x['data']['grid']==[0, 0] and x['cell'] == \"Ashlands Region\" else x['cell'] if x['data']['grid']==[0, 0] else str(x['data']['grid']): x for x in json1 if x['type']==t}\n",
    "        test2={str(x['data']['grid']) if x['data']['grid']==[0, 0] and x['cell'] == \"Ashlands Region\" else x['cell'] if x['data']['grid']==[0, 0] else str(x['data']['grid']): x for x in json2 if x['type']==t}\n",
    "    elif t == 'Info':\n",
    "        # info doesn't store its parent Dialogue entry, so fetch both Dialogue and Info and nest them in a dictonary for the sake of comparison.\n",
    "        test1d=[x for x in json1 if x['type']=='Dialogue' or x['type']=='Info']\n",
    "        test2d=[x for x in json2 if x['type']=='Dialogue' or x['type']=='Info']\n",
    "        topic = None\n",
    "        test1 = {}\n",
    "        for x in test1d:\n",
    "            if x['type']=='Dialogue':\n",
    "                topic = x['id']\n",
    "                test1[topic] = []\n",
    "            else:\n",
    "                test1[topic].append(x)\n",
    "        topic = None\n",
    "        test2 = {}\n",
    "        for x in test2d:\n",
    "            if x['type']=='Dialogue':\n",
    "                topic = x['id']\n",
    "                test2[topic] = []\n",
    "            else:\n",
    "                test2[topic].append(x)\n",
    "    elif t not in ['Landscape', 'Header', 'PathGrid', 'Cell', 'Info']:  #catch-all for entries that have an id?\n",
    "        test1={x['id']: x for x in json1 if x['type']==t}\n",
    "        test2={x['id']: x for x in json2 if x['type']==t}\n",
    "    else:\n",
    "        test1=[x for x in json1 if x['type']==t]\n",
    "        test2=[x for x in json2 if x['type']==t]\n",
    "    if test1 == test2:\n",
    "        test_jsondiff_all_types[t]={}\n",
    "    else:\n",
    "        if isinstance(test1, dict)&isinstance(test2, dict):\n",
    "            keys = []   # first record all unique keys - keys = test1.keys() | test2.keys() could also work but doesn't preserve ordering, so let's just use this for now.\n",
    "            for x in test1.keys():\n",
    "                if x not in keys:\n",
    "                    keys.append(x)\n",
    "            for x in test2.keys():\n",
    "                if x not in keys:\n",
    "                    keys.append(x)\n",
    "            keys = [k for k in keys if test1.get(k)!=test2.get(k)]\n",
    "            test_jsondiff_all_types[t]={}\n",
    "            for k in keys:\n",
    "                test_jsondiff_all_types[t][k] = (JsonDiff(test1.get(k), test2.get(k)), JsonDiff(test2.get(k), test1.get(k)))\n",
    "        else:\n",
    "            #test_jsondiff[t] = diff(test1, test2)\n",
    "            test_jsondiff_all_types[t] = (JsonDiff(test1, test2), JsonDiff(test2, test1))\n",
    "    l = len(test_jsondiff_all_types[t])\n",
    "    end = time.time()\n",
    "\n",
    "    #print(\" \\t\\tdelta=\"+str(len(test_jsondiff[t] or '')))\n",
    "    print(\"\\tdelta=\"+str(l)+' '*max((10-len(str(l))),0)+' time='+str(round(end-start,5)))\n"
   ]
  },
  {
   "cell_type": "code",
   "execution_count": null,
   "metadata": {},
   "outputs": [],
   "source": []
  },
  {
   "cell_type": "code",
   "execution_count": null,
   "metadata": {},
   "outputs": [],
   "source": []
  },
  {
   "cell_type": "code",
   "execution_count": null,
   "metadata": {},
   "outputs": [],
   "source": []
  },
  {
   "cell_type": "code",
   "execution_count": null,
   "metadata": {},
   "outputs": [],
   "source": []
  },
  {
   "cell_type": "code",
   "execution_count": null,
   "metadata": {},
   "outputs": [],
   "source": []
  },
  {
   "cell_type": "code",
   "execution_count": null,
   "metadata": {},
   "outputs": [],
   "source": []
  }
 ],
 "metadata": {
  "interpreter": {
   "hash": "f65784b3c5b41b9a762f2b1c46934bda23b53eb186a3fe20a5a6cc00aaacc4b4"
  },
  "kernelspec": {
   "display_name": "Python 3.9.7 ('base')",
   "language": "python",
   "name": "python3"
  },
  "language_info": {
   "codemirror_mode": {
    "name": "ipython",
    "version": 3
   },
   "file_extension": ".py",
   "mimetype": "text/x-python",
   "name": "python",
   "nbconvert_exporter": "python",
   "pygments_lexer": "ipython3",
   "version": "3.9.7"
  },
  "orig_nbformat": 4
 },
 "nbformat": 4,
 "nbformat_minor": 2
}
